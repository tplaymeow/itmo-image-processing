{
  "nbformat": 4,
  "nbformat_minor": 0,
  "metadata": {
    "colab": {
      "provenance": []
    },
    "kernelspec": {
      "name": "python3",
      "display_name": "Python 3"
    },
    "language_info": {
      "name": "python"
    }
  },
  "cells": [
    {
      "cell_type": "code",
      "execution_count": 1,
      "metadata": {
        "id": "wm9ytC9qOtXX"
      },
      "outputs": [],
      "source": [
        "import cv2\n",
        "import matplotlib.pyplot as plt\n",
        "import numpy as np\n",
        "%matplotlib inline"
      ]
    },
    {
      "cell_type": "markdown",
      "source": [
        "### 1. С помощью библиотеки OpenCV считайте изображение:"
      ],
      "metadata": {
        "id": "AcTdW2PdO0j7"
      }
    },
    {
      "cell_type": "code",
      "source": [
        "file_name = \"image.jpg\"\n",
        "img = cv2.cvtColor(cv2.imread(file_name), cv2.COLOR_BGR2RGB)"
      ],
      "metadata": {
        "id": "q4csWmzTO6d4"
      },
      "execution_count": 3,
      "outputs": []
    },
    {
      "cell_type": "markdown",
      "source": [
        "### 2. Выполните линейную нормировку и растяжение на диапазон 0 - 255 гистограммы по каналам R, G и B.\n"
      ],
      "metadata": {
        "id": "Zl4878pPPAG2"
      }
    },
    {
      "cell_type": "code",
      "source": [
        "img_new = img.copy()\n",
        "img_new[:, :, 0] = (img_new[:, :, 0] - np.min(img_new[:, :, 0])) / (np.max(img_new[:, :, 0]) - np.min(img_new[:, :, 0])) * 255\n",
        "img_new[:, :, 1] = (img_new[:, :, 1] - np.min(img_new[:, :, 1])) / (np.max(img_new[:, :, 1]) - np.min(img_new[:, :, 1])) * 255\n",
        "img_new[:, :, 2] = (img_new[:, :, 2] - np.min(img_new[:, :, 2])) / (np.max(img_new[:, :, 2]) - np.min(img_new[:, :, 2])) * 255"
      ],
      "metadata": {
        "id": "qDrdkSkiPDbk"
      },
      "execution_count": 5,
      "outputs": []
    },
    {
      "cell_type": "markdown",
      "source": [
        "### 3. Определите интенсивность каналов R, G, B для пикселя, находящегося на пересечении 447 строки и 612 столбца матричного представления изображения.\n",
        "\n"
      ],
      "metadata": {
        "id": "JYPqHYI_PPya"
      }
    },
    {
      "cell_type": "code",
      "source": [
        "print(img_new[447, 612])"
      ],
      "metadata": {
        "colab": {
          "base_uri": "https://localhost:8080/"
        },
        "id": "5_mLIbaEPUrO",
        "outputId": "93d4979d-809a-445b-9993-fbc376e0e67b"
      },
      "execution_count": 6,
      "outputs": [
        {
          "output_type": "stream",
          "name": "stdout",
          "text": [
            "[136 135 130]\n"
          ]
        }
      ]
    }
  ]
}